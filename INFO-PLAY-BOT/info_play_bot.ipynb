{
 "cells": [
  {
   "cell_type": "markdown",
   "id": "11418806",
   "metadata": {},
   "source": [
    "\n",
    "\n",
    "## \"Информационно-развлекательный чат-бот\"\n",
    "\n"
   ]
  },
  {
   "cell_type": "markdown",
   "id": "53abe7a5",
   "metadata": {},
   "source": [
    "## Данный бот позволяет следующее:\n",
    "\n",
    "### получить курс основных валют ЦБ России на сегодня;\n",
    "\n",
    "### получить сводку погоды по городам мира;\n",
    "\n",
    "### получить справочную информацию из википедии;\n",
    "\n",
    "### просто позадавать любые вопросы в развлекательных целях (\"болталка\")."
   ]
  },
  {
   "cell_type": "code",
   "execution_count": 1,
   "id": "baf011b6",
   "metadata": {},
   "outputs": [
    {
     "name": "stdout",
     "output_type": "stream",
     "text": [
      "Requirement already satisfied: feedparser in c:\\users\\user\\anaconda3\\lib\\site-packages (6.0.11)\n",
      "Requirement already satisfied: sgmllib3k in c:\\users\\user\\anaconda3\\lib\\site-packages (from feedparser) (1.0.0)\n",
      "Note: you may need to restart the kernel to use updated packages.\n"
     ]
    }
   ],
   "source": [
    "pip install feedparser"
   ]
  },
  {
   "cell_type": "code",
   "execution_count": 2,
   "id": "2ba882f5",
   "metadata": {},
   "outputs": [],
   "source": [
    "# Импорт необходимых библиотек\n",
    "import jsonlines\n",
    "import pandas as pd\n",
    "\n",
    "import telebot\n",
    "import feedparser\n",
    "import time\n",
    "from telebot import types\n",
    "import requests\n",
    "from datetime import datetime\n",
    "\n",
    "import telebot, wikipedia, re\n",
    "\n",
    "import os\n",
    "import datetime\n",
    "\n",
    "import math\n",
    "\n",
    "from sklearn.feature_extraction.text import TfidfVectorizer\n",
    "from sklearn.decomposition import TruncatedSVD\n",
    "\n",
    "import numpy as np\n",
    "from sklearn.neighbors import BallTree\n",
    "from sklearn.base import BaseEstimator\n",
    "\n",
    "from sklearn.pipeline import make_pipeline"
   ]
  },
  {
   "cell_type": "code",
   "execution_count": null,
   "id": "6c76eeda",
   "metadata": {},
   "outputs": [],
   "source": []
  },
  {
   "cell_type": "markdown",
   "id": "b93774bc",
   "metadata": {},
   "source": [
    "### Блок \"Болталка\""
   ]
  },
  {
   "cell_type": "code",
   "execution_count": 3,
   "id": "d35384e5",
   "metadata": {},
   "outputs": [
    {
     "name": "stdout",
     "output_type": "stream",
     "text": [
      "Requirement already satisfied: jsonlines in c:\\users\\user\\anaconda3\\lib\\site-packages (4.0.0)\n",
      "Requirement already satisfied: attrs>=19.2.0 in c:\\users\\user\\anaconda3\\lib\\site-packages (from jsonlines) (21.4.0)\n"
     ]
    }
   ],
   "source": [
    "#Escaping out HTML character\n",
    "!pip install jsonlines\n",
    " "
   ]
  },
  {
   "cell_type": "markdown",
   "id": "ae99bb9c",
   "metadata": {},
   "source": [
    "В качестве исходных данных был взят датасет из https://huggingface.co/\n",
    "\n",
    "Это датасет русских диалогов собранных с Telegram чатов. Количество диалогов - 2 миллиона.\n",
    "https://huggingface.co/datasets/Den4ikAI/russian_dialogues/blob/main/dataset.jsonl"
   ]
  },
  {
   "cell_type": "code",
   "execution_count": 4,
   "id": "394c6dd1",
   "metadata": {},
   "outputs": [],
   "source": [
    "#Соединяем датасет в список, удобный для дальнейшей работы\n",
    "# Исключаем \"пустые\" диалоги\n",
    "dialogs = []\n",
    "with open('../chat-bot/dataset.jsonl', 'rb') as f:\n",
    "    for item in jsonlines.Reader(f):\n",
    "    #for item in f:\n",
    "        question = item.get(\"question\")\n",
    "        answer = item.get(\"answer\")\n",
    "        if question is not None and answer is not None:\n",
    "            dialogs.append((question, answer))"
   ]
  },
  {
   "cell_type": "code",
   "execution_count": 5,
   "id": "fc0ca816",
   "metadata": {},
   "outputs": [
    {
     "data": {
      "text/html": [
       "<div>\n",
       "<style scoped>\n",
       "    .dataframe tbody tr th:only-of-type {\n",
       "        vertical-align: middle;\n",
       "    }\n",
       "\n",
       "    .dataframe tbody tr th {\n",
       "        vertical-align: top;\n",
       "    }\n",
       "\n",
       "    .dataframe thead th {\n",
       "        text-align: right;\n",
       "    }\n",
       "</style>\n",
       "<table border=\"1\" class=\"dataframe\">\n",
       "  <thead>\n",
       "    <tr style=\"text-align: right;\">\n",
       "      <th></th>\n",
       "      <th>question</th>\n",
       "      <th>answer</th>\n",
       "    </tr>\n",
       "  </thead>\n",
       "  <tbody>\n",
       "    <tr>\n",
       "      <th>0</th>\n",
       "      <td>как дела?</td>\n",
       "      <td>там хорошо</td>\n",
       "    </tr>\n",
       "    <tr>\n",
       "      <th>1</th>\n",
       "      <td>вы кефир пачему не кушаете, не любите?</td>\n",
       "      <td>я ряженку лучше люблю.</td>\n",
       "    </tr>\n",
       "    <tr>\n",
       "      <th>2</th>\n",
       "      <td>если в расходную накладную забить дури и выкур...</td>\n",
       "      <td>особенно когда придет комиссия проверять докум...</td>\n",
       "    </tr>\n",
       "    <tr>\n",
       "      <th>3</th>\n",
       "      <td>покажись в шапке</td>\n",
       "      <td>ды щаз приветик</td>\n",
       "    </tr>\n",
       "    <tr>\n",
       "      <th>4</th>\n",
       "      <td>давай не будем об этом</td>\n",
       "      <td>давай поговорим о чем-нибудь другом</td>\n",
       "    </tr>\n",
       "    <tr>\n",
       "      <th>...</th>\n",
       "      <td>...</td>\n",
       "      <td>...</td>\n",
       "    </tr>\n",
       "    <tr>\n",
       "      <th>2476078</th>\n",
       "      <td>а ваша гармонь отчего поет?</td>\n",
       "      <td>нет, просто наслаждаюсь пением.</td>\n",
       "    </tr>\n",
       "    <tr>\n",
       "      <th>2476079</th>\n",
       "      <td>а кто или что мешает вам быть истинно счастливым?</td>\n",
       "      <td>да. это просто. надо радоваться каждому мгнове...</td>\n",
       "    </tr>\n",
       "    <tr>\n",
       "      <th>2476080</th>\n",
       "      <td>как сделать визу в нигерию без справки с работы?</td>\n",
       "      <td>безработных туда не пускают, значит никак</td>\n",
       "    </tr>\n",
       "    <tr>\n",
       "      <th>2476081</th>\n",
       "      <td>есть универсальный способ проверки состояния м...</td>\n",
       "      <td>да выжать и отпустить сцепление на заведеной н...</td>\n",
       "    </tr>\n",
       "    <tr>\n",
       "      <th>2476082</th>\n",
       "      <td>завтра на работу не поеду, что то я раскисла.</td>\n",
       "      <td>а шо случилось?</td>\n",
       "    </tr>\n",
       "  </tbody>\n",
       "</table>\n",
       "<p>2476083 rows × 2 columns</p>\n",
       "</div>"
      ],
      "text/plain": [
       "                                                  question  \\\n",
       "0                                                как дела?   \n",
       "1                   вы кефир пачему не кушаете, не любите?   \n",
       "2        если в расходную накладную забить дури и выкур...   \n",
       "3                                         покажись в шапке   \n",
       "4                                   давай не будем об этом   \n",
       "...                                                    ...   \n",
       "2476078                        а ваша гармонь отчего поет?   \n",
       "2476079  а кто или что мешает вам быть истинно счастливым?   \n",
       "2476080   как сделать визу в нигерию без справки с работы?   \n",
       "2476081  есть универсальный способ проверки состояния м...   \n",
       "2476082      завтра на работу не поеду, что то я раскисла.   \n",
       "\n",
       "                                                    answer  \n",
       "0                                               там хорошо  \n",
       "1                                   я ряженку лучше люблю.  \n",
       "2        особенно когда придет комиссия проверять докум...  \n",
       "3                                          ды щаз приветик  \n",
       "4                      давай поговорим о чем-нибудь другом  \n",
       "...                                                    ...  \n",
       "2476078                    нет, просто наслаждаюсь пением.  \n",
       "2476079  да. это просто. надо радоваться каждому мгнове...  \n",
       "2476080          безработных туда не пускают, значит никак  \n",
       "2476081  да выжать и отпустить сцепление на заведеной н...  \n",
       "2476082                                    а шо случилось?  \n",
       "\n",
       "[2476083 rows x 2 columns]"
      ]
     },
     "execution_count": 5,
     "metadata": {},
     "output_type": "execute_result"
    }
   ],
   "source": [
    "dff = pd.DataFrame(dialogs, columns=['question', 'answer'])\n",
    "dff"
   ]
  },
  {
   "cell_type": "code",
   "execution_count": 6,
   "id": "8cd64c4a",
   "metadata": {},
   "outputs": [
    {
     "data": {
      "text/html": [
       "<div>\n",
       "<style scoped>\n",
       "    .dataframe tbody tr th:only-of-type {\n",
       "        vertical-align: middle;\n",
       "    }\n",
       "\n",
       "    .dataframe tbody tr th {\n",
       "        vertical-align: top;\n",
       "    }\n",
       "\n",
       "    .dataframe thead th {\n",
       "        text-align: right;\n",
       "    }\n",
       "</style>\n",
       "<table border=\"1\" class=\"dataframe\">\n",
       "  <thead>\n",
       "    <tr style=\"text-align: right;\">\n",
       "      <th></th>\n",
       "      <th>question</th>\n",
       "      <th>answer</th>\n",
       "    </tr>\n",
       "  </thead>\n",
       "  <tbody>\n",
       "    <tr>\n",
       "      <th>0</th>\n",
       "      <td>как дела?</td>\n",
       "      <td>там хорошо</td>\n",
       "    </tr>\n",
       "    <tr>\n",
       "      <th>5624</th>\n",
       "      <td>как дела?</td>\n",
       "      <td>да походу тут все такие собрались</td>\n",
       "    </tr>\n",
       "    <tr>\n",
       "      <th>7590</th>\n",
       "      <td>как дела?</td>\n",
       "      <td>не помню, но ему содрали кожу до мяса блять.</td>\n",
       "    </tr>\n",
       "    <tr>\n",
       "      <th>12547</th>\n",
       "      <td>как дела?</td>\n",
       "      <td>ну мне только черный нужен</td>\n",
       "    </tr>\n",
       "    <tr>\n",
       "      <th>14480</th>\n",
       "      <td>как дела?</td>\n",
       "      <td>как обычно</td>\n",
       "    </tr>\n",
       "    <tr>\n",
       "      <th>...</th>\n",
       "      <td>...</td>\n",
       "      <td>...</td>\n",
       "    </tr>\n",
       "    <tr>\n",
       "      <th>2451655</th>\n",
       "      <td>как дела?</td>\n",
       "      <td>все замечательно, ты как?</td>\n",
       "    </tr>\n",
       "    <tr>\n",
       "      <th>2456111</th>\n",
       "      <td>как дела?</td>\n",
       "      <td>обсуждаем скоротечность времени</td>\n",
       "    </tr>\n",
       "    <tr>\n",
       "      <th>2458946</th>\n",
       "      <td>как дела?</td>\n",
       "      <td>нормально. я с башкирии, если что. мы все тут ...</td>\n",
       "    </tr>\n",
       "    <tr>\n",
       "      <th>2466883</th>\n",
       "      <td>как дела?</td>\n",
       "      <td>хорошоты как? что делаешь?</td>\n",
       "    </tr>\n",
       "    <tr>\n",
       "      <th>2472689</th>\n",
       "      <td>как дела?</td>\n",
       "      <td>та вот сижу</td>\n",
       "    </tr>\n",
       "  </tbody>\n",
       "</table>\n",
       "<p>996 rows × 2 columns</p>\n",
       "</div>"
      ],
      "text/plain": [
       "          question                                             answer\n",
       "0        как дела?                                         там хорошо\n",
       "5624     как дела?                  да походу тут все такие собрались\n",
       "7590     как дела?       не помню, но ему содрали кожу до мяса блять.\n",
       "12547    как дела?                         ну мне только черный нужен\n",
       "14480    как дела?                                         как обычно\n",
       "...            ...                                                ...\n",
       "2451655  как дела?                          все замечательно, ты как?\n",
       "2456111  как дела?                    обсуждаем скоротечность времени\n",
       "2458946  как дела?  нормально. я с башкирии, если что. мы все тут ...\n",
       "2466883  как дела?                         хорошоты как? что делаешь?\n",
       "2472689  как дела?                                        та вот сижу\n",
       "\n",
       "[996 rows x 2 columns]"
      ]
     },
     "execution_count": 6,
     "metadata": {},
     "output_type": "execute_result"
    }
   ],
   "source": [
    "rep = dff[dff.question == 'как дела?']\n",
    "rep"
   ]
  },
  {
   "cell_type": "markdown",
   "id": "6bc51917",
   "metadata": {},
   "source": [
    "Видно, что на один и тот-же вопрос есть несколько ответов."
   ]
  },
  {
   "cell_type": "code",
   "execution_count": 8,
   "id": "dea40845",
   "metadata": {},
   "outputs": [
    {
     "data": {
      "text/html": [
       "<div>\n",
       "<style scoped>\n",
       "    .dataframe tbody tr th:only-of-type {\n",
       "        vertical-align: middle;\n",
       "    }\n",
       "\n",
       "    .dataframe tbody tr th {\n",
       "        vertical-align: top;\n",
       "    }\n",
       "\n",
       "    .dataframe thead th {\n",
       "        text-align: right;\n",
       "    }\n",
       "</style>\n",
       "<table border=\"1\" class=\"dataframe\">\n",
       "  <thead>\n",
       "    <tr style=\"text-align: right;\">\n",
       "      <th></th>\n",
       "      <th>question</th>\n",
       "      <th>answer</th>\n",
       "    </tr>\n",
       "  </thead>\n",
       "  <tbody>\n",
       "    <tr>\n",
       "      <th>191349</th>\n",
       "      <td>кто лучше брюнетки или блондинки?</td>\n",
       "      <td>блондинки посимпатичнее и миловиднее, ну это м...</td>\n",
       "    </tr>\n",
       "    <tr>\n",
       "      <th>119608</th>\n",
       "      <td>представляю, какая ржака</td>\n",
       "      <td>все хорошо. спасибо</td>\n",
       "    </tr>\n",
       "    <tr>\n",
       "      <th>1191271</th>\n",
       "      <td>нашел че вспомнить.</td>\n",
       "      <td>зоммбиии против крипера погналиии!!!</td>\n",
       "    </tr>\n",
       "    <tr>\n",
       "      <th>802915</th>\n",
       "      <td>чем заняться в свободное время?</td>\n",
       "      <td>спортом, изучением иностранных языков, чтением...</td>\n",
       "    </tr>\n",
       "    <tr>\n",
       "      <th>1870021</th>\n",
       "      <td>станет ли для вас сюрпризом неожиданное призна...</td>\n",
       "      <td>конечно, приятным, ведь настоящая любовь она в...</td>\n",
       "    </tr>\n",
       "    <tr>\n",
       "      <th>...</th>\n",
       "      <td>...</td>\n",
       "      <td>...</td>\n",
       "    </tr>\n",
       "    <tr>\n",
       "      <th>1010246</th>\n",
       "      <td>у тебя мозги всегда включены?</td>\n",
       "      <td>душа то живое существо, имеющеетело и дхание.</td>\n",
       "    </tr>\n",
       "    <tr>\n",
       "      <th>694177</th>\n",
       "      <td>так откроем же банку пива и оптимистично пошле...</td>\n",
       "      <td>о хороший план я в деле</td>\n",
       "    </tr>\n",
       "    <tr>\n",
       "      <th>2159526</th>\n",
       "      <td>в какие игры можно поиграть с микроволновкой?</td>\n",
       "      <td>ни в какие. это не игрушка. сломается где носк...</td>\n",
       "    </tr>\n",
       "    <tr>\n",
       "      <th>1787459</th>\n",
       "      <td>вы выделяетесь из толпы? какова сила вашей хар...</td>\n",
       "      <td>выделяюсь. это-то многих и раздражает а мне о ...</td>\n",
       "    </tr>\n",
       "    <tr>\n",
       "      <th>2254098</th>\n",
       "      <td>теперь я точно ничего не понимаю</td>\n",
       "      <td>он в турции</td>\n",
       "    </tr>\n",
       "  </tbody>\n",
       "</table>\n",
       "<p>495217 rows × 2 columns</p>\n",
       "</div>"
      ],
      "text/plain": [
       "                                                  question  \\\n",
       "191349                   кто лучше брюнетки или блондинки?   \n",
       "119608                            представляю, какая ржака   \n",
       "1191271                                нашел че вспомнить.   \n",
       "802915                     чем заняться в свободное время?   \n",
       "1870021  станет ли для вас сюрпризом неожиданное призна...   \n",
       "...                                                    ...   \n",
       "1010246                      у тебя мозги всегда включены?   \n",
       "694177   так откроем же банку пива и оптимистично пошле...   \n",
       "2159526      в какие игры можно поиграть с микроволновкой?   \n",
       "1787459  вы выделяетесь из толпы? какова сила вашей хар...   \n",
       "2254098                   теперь я точно ничего не понимаю   \n",
       "\n",
       "                                                    answer  \n",
       "191349   блондинки посимпатичнее и миловиднее, ну это м...  \n",
       "119608                                 все хорошо. спасибо  \n",
       "1191271               зоммбиии против крипера погналиии!!!  \n",
       "802915   спортом, изучением иностранных языков, чтением...  \n",
       "1870021  конечно, приятным, ведь настоящая любовь она в...  \n",
       "...                                                    ...  \n",
       "1010246      душа то живое существо, имеющеетело и дхание.  \n",
       "694177                             о хороший план я в деле  \n",
       "2159526  ни в какие. это не игрушка. сломается где носк...  \n",
       "1787459  выделяюсь. это-то многих и раздражает а мне о ...  \n",
       "2254098                                        он в турции  \n",
       "\n",
       "[495217 rows x 2 columns]"
      ]
     },
     "execution_count": 8,
     "metadata": {},
     "output_type": "execute_result"
    }
   ],
   "source": [
    "# Рандомно сократим 80% датафрейма\n",
    "dff = dff.sample(frac=0.2)\n",
    "dff"
   ]
  },
  {
   "cell_type": "markdown",
   "id": "2ea90aad",
   "metadata": {},
   "source": [
    "#### Векторизация текста"
   ]
  },
  {
   "cell_type": "code",
   "execution_count": 9,
   "id": "4f403eaf",
   "metadata": {},
   "outputs": [],
   "source": [
    "from sklearn.feature_extraction.text import TfidfVectorizer"
   ]
  },
  {
   "cell_type": "code",
   "execution_count": 10,
   "id": "da8be762",
   "metadata": {},
   "outputs": [
    {
     "data": {
      "text/plain": [
       "TfidfVectorizer()"
      ]
     },
     "execution_count": 10,
     "metadata": {},
     "output_type": "execute_result"
    }
   ],
   "source": [
    "vectorizer = TfidfVectorizer()\n",
    "vectorizer.fit(dff.question)"
   ]
  },
  {
   "cell_type": "code",
   "execution_count": 11,
   "id": "87bea8a0",
   "metadata": {},
   "outputs": [
    {
     "data": {
      "text/plain": [
       "(495217, 193794)"
      ]
     },
     "execution_count": 11,
     "metadata": {},
     "output_type": "execute_result"
    }
   ],
   "source": [
    "# Записываем в матрицу, сколько раз каждое слово встречалось в тексте\n",
    "matrix_big = vectorizer.transform(dff.question)\n",
    "matrix_big.shape"
   ]
  },
  {
   "cell_type": "markdown",
   "id": "322a2df9",
   "metadata": {},
   "source": [
    "Возникла проблема: в базе почти 2,5 млн текстовых «вопросов», в которых содержится 421781 различных слов. Если превратить все вопросы в векторы, получится матрица2476083*421781. Работать с такой компьютеру будет тяжело, поэтому необходимо провести\n",
    "сокращение размерности.\n",
    "\n",
    "Попробуем использовать алгоритм PCA (метод главных компонент) \n",
    "\n",
    "Сократим размерность до 300 измерений"
   ]
  },
  {
   "cell_type": "code",
   "execution_count": 12,
   "id": "8d17e4a0",
   "metadata": {},
   "outputs": [],
   "source": [
    "from sklearn.decomposition import TruncatedSVD"
   ]
  },
  {
   "cell_type": "code",
   "execution_count": 13,
   "id": "5964fa47",
   "metadata": {},
   "outputs": [],
   "source": [
    "svd = TruncatedSVD(n_components=300)"
   ]
  },
  {
   "cell_type": "code",
   "execution_count": 14,
   "id": "7930f345",
   "metadata": {},
   "outputs": [
    {
     "name": "stdout",
     "output_type": "stream",
     "text": [
      "Размер малой матрицы (495217, 300)\n"
     ]
    }
   ],
   "source": [
    "svd.fit(matrix_big)\n",
    "matrix_small = svd.transform(matrix_big)\n",
    "print('Размер малой матрицы', matrix_small.shape)"
   ]
  },
  {
   "cell_type": "code",
   "execution_count": 15,
   "id": "19107dfc",
   "metadata": {},
   "outputs": [
    {
     "name": "stdout",
     "output_type": "stream",
     "text": [
      "Степень сжатия (потеря информации) 0.24620589563288292\n"
     ]
    }
   ],
   "source": [
    "print('Степень сжатия (потеря информации)', svd.explained_variance_ratio_.sum())"
   ]
  },
  {
   "cell_type": "markdown",
   "id": "f6ce165b",
   "metadata": {},
   "source": [
    "#### Поиск ближайших соседей"
   ]
  },
  {
   "cell_type": "markdown",
   "id": "ac7ccd57",
   "metadata": {},
   "source": [
    "Здесь я буду отображать вопросы в Евклидово пространство не очень высокой размерности. Поиск соседей в нём можно осуществлять довольно быстро. Я воспользуюсь уже готовым алгоритмом поиска соседей BallTree. \n",
    "\n",
    "Буду использовать модель, которая выбирала бы одного из k ближайших соседей, причём чем ближе сосед, тем выше вероятность его выбора. Ибо брать всегда одного самого близкого соседа — скучно, но не завязываться на сходство совсем — опасно."
   ]
  },
  {
   "cell_type": "code",
   "execution_count": 15,
   "id": "3b49c8d6",
   "metadata": {},
   "outputs": [],
   "source": [
    "import numpy as np\n",
    "from sklearn.neighbors import BallTree\n",
    "from sklearn.base import BaseEstimator"
   ]
  },
  {
   "cell_type": "code",
   "execution_count": 16,
   "id": "8bc32b7a",
   "metadata": {},
   "outputs": [],
   "source": [
    "# Используем функцию softmax для определения «вероятности» выбора ответа.\n",
    "def softmax(x):\n",
    "    proba = np.exp(-x)\n",
    "    return proba/sum(proba)"
   ]
  },
  {
   "cell_type": "code",
   "execution_count": 17,
   "id": "d871eb01",
   "metadata": {},
   "outputs": [],
   "source": [
    "class NeighborSampler(BaseEstimator):\n",
    "     def __init__(self, k=5, temperature=1):\n",
    "            self.k = k\n",
    "            self.temperature = temperature\n",
    "     \n",
    "     def fit(self, X, y):\n",
    "            self.tree_ = BallTree(X)\n",
    "            self.y_ = np.array(y)\n",
    "      \n",
    "     def predict(self, X, random_state = None):\n",
    "        distances, indices = self.tree_.query(X, return_distance=True, k = self.k)\n",
    "        result = []\n",
    "        for distance, index in zip(distances, indices):\n",
    "            result.append(np.random.choice(index, p=softmax(distance*self.temperature)))\n",
    "        return self.y_[result]"
   ]
  },
  {
   "cell_type": "markdown",
   "id": "09e201a2",
   "metadata": {},
   "source": [
    "Фразы, которые будет вводить пользователь, надо пропускать через все три алгоритма — векторизатор, метод главных компонент, и алгоритм выбора ответа. Чтобы писать меньше кода, можно связать их в единую цепочку (pipeline), применяющую алгоритмы последовательно."
   ]
  },
  {
   "cell_type": "markdown",
   "id": "89af6303",
   "metadata": {},
   "source": [
    "#### Соединяем векторизацию, сокращение размерностей и поиск соседей\n"
   ]
  },
  {
   "cell_type": "code",
   "execution_count": 18,
   "id": "b66d21b3",
   "metadata": {},
   "outputs": [],
   "source": [
    "from sklearn.pipeline import make_pipeline"
   ]
  },
  {
   "cell_type": "code",
   "execution_count": 19,
   "id": "23aadd0a",
   "metadata": {},
   "outputs": [],
   "source": [
    "ns = NeighborSampler()\n",
    "ns.fit(matrix_small, dff.answer)\n",
    "pipe = make_pipeline(vectorizer, svd, ns)"
   ]
  },
  {
   "cell_type": "markdown",
   "id": "d810c552",
   "metadata": {},
   "source": [
    "#### Тестируем пайплайн"
   ]
  },
  {
   "cell_type": "code",
   "execution_count": 25,
   "id": "9de7a340",
   "metadata": {},
   "outputs": [
    {
     "data": {
      "text/plain": [
       "array(['меня тоже постоянно яростно будят'], dtype=object)"
      ]
     },
     "execution_count": 25,
     "metadata": {},
     "output_type": "execute_result"
    }
   ],
   "source": [
    "pipe.predict(['как делишки?'])"
   ]
  },
  {
   "cell_type": "code",
   "execution_count": 21,
   "id": "ed5e4294",
   "metadata": {},
   "outputs": [
    {
     "data": {
      "text/plain": [
       "array(['нет, но я догадываюсь о твоей внешности'], dtype=object)"
      ]
     },
     "execution_count": 21,
     "metadata": {},
     "output_type": "execute_result"
    }
   ],
   "source": [
    "pipe.predict(['где ты живешь?'])"
   ]
  },
  {
   "cell_type": "code",
   "execution_count": 26,
   "id": "002bcbe0",
   "metadata": {},
   "outputs": [
    {
     "data": {
      "text/plain": [
       "array(['главней всего погода в доме. спокойная, без бурь и катастроф.'],\n",
       "      dtype=object)"
      ]
     },
     "execution_count": 26,
     "metadata": {},
     "output_type": "execute_result"
    }
   ],
   "source": [
    "pipe.predict(['какая погода  у вас?'])"
   ]
  },
  {
   "cell_type": "code",
   "execution_count": 23,
   "id": "b3280266",
   "metadata": {},
   "outputs": [
    {
     "data": {
      "text/plain": [
       "array(['я видела как ты на ихнем трындел'], dtype=object)"
      ]
     },
     "execution_count": 23,
     "metadata": {},
     "output_type": "execute_result"
    }
   ],
   "source": [
    "pipe.predict(['чего бы купить?'])"
   ]
  },
  {
   "cell_type": "code",
   "execution_count": 24,
   "id": "18eeac90",
   "metadata": {},
   "outputs": [
    {
     "data": {
      "text/plain": [
       "array(['от спермотоксикоза ну как вариант'], dtype=object)"
      ]
     },
     "execution_count": 24,
     "metadata": {},
     "output_type": "execute_result"
    }
   ],
   "source": [
    "pipe.predict(['чего бы посмотреть?'])"
   ]
  },
  {
   "cell_type": "code",
   "execution_count": 27,
   "id": "b8e3723a",
   "metadata": {},
   "outputs": [
    {
     "data": {
      "text/plain": [
       "array(['так ты ж в статусе его дрюкаешь'], dtype=object)"
      ]
     },
     "execution_count": 27,
     "metadata": {},
     "output_type": "execute_result"
    }
   ],
   "source": [
    "pipe.predict(['чего бы поесть?'])"
   ]
  },
  {
   "cell_type": "code",
   "execution_count": null,
   "id": "c9ef898e",
   "metadata": {},
   "outputs": [],
   "source": []
  },
  {
   "cell_type": "markdown",
   "id": "b52d0cbc",
   "metadata": {},
   "source": [
    "### Блок \"Википедия\""
   ]
  },
  {
   "cell_type": "code",
   "execution_count": 28,
   "id": "5e167834",
   "metadata": {},
   "outputs": [],
   "source": [
    "\n",
    "# Устанавливаем русский язык в Wikipedia\n",
    "wikipedia.set_lang(\"ru\")\n",
    "# Чистим текст статьи в Wikipedia и ограничиваем его тысячей символов\n",
    "def getwiki(s):\n",
    "    try:\n",
    "        ny = wikipedia.page(s)\n",
    "        # Получаем первую тысячу символов\n",
    "        wikitext=ny.content[:1000]\n",
    "        # Разделяем по точкам\n",
    "        wikimas=wikitext.split('.')\n",
    "        # Отбрасываем всЕ после последней точки\n",
    "        wikimas = wikimas[:-1]\n",
    "        # Создаем пустую переменную для текста\n",
    "        wikitext2 = ''\n",
    "        # Проходимся по строкам, где нет знаков «равно» (то есть все, кроме заголовков)\n",
    "        for x in wikimas:\n",
    "            if not('==' in x):\n",
    "                    # Если в строке осталось больше трех символов, \n",
    "                    # добавляем ее к нашей переменной и возвращаем утерянные при разделении строк точки на место\n",
    "                if(len((x.strip()))>3):\n",
    "                   wikitext2=wikitext2+x+'.'\n",
    "            else:\n",
    "                break\n",
    "        # Теперь при помощи регулярных выражений убираем разметку\n",
    "        wikitext2=re.sub('\\([^()]*\\)', '', wikitext2)\n",
    "        wikitext2=re.sub('\\([^()]*\\)', '', wikitext2)\n",
    "        wikitext2=re.sub('\\{[^\\{\\}]*\\}', '', wikitext2)\n",
    "        wikitext2=re.sub('\\n', ' ', wikitext2)\n",
    "        # Возвращаем текстовую строку\n",
    "        return wikitext2\n",
    "    # Обрабатываем исключение, которое мог вернуть модуль wikipedia при запросе\n",
    "    except Exception as e:\n",
    "        return 'К сожалению, в википедии нет информации об этом'\n"
   ]
  },
  {
   "cell_type": "code",
   "execution_count": null,
   "id": "d9e56476",
   "metadata": {},
   "outputs": [],
   "source": []
  },
  {
   "cell_type": "markdown",
   "id": "d4a85d67",
   "metadata": {},
   "source": [
    "#### Тестируем запросы"
   ]
  },
  {
   "cell_type": "code",
   "execution_count": 29,
   "id": "4147f110",
   "metadata": {},
   "outputs": [
    {
     "data": {
      "text/plain": [
       "'Слоно́вые, или слоны́ , — семейство класса млекопитающих из отряда хоботных. В настоящее время к этому семейству относятся 3 ныне живущих вида. Африканские саванные слоны — наиболее крупные наземные млекопитающие.'"
      ]
     },
     "execution_count": 29,
     "metadata": {},
     "output_type": "execute_result"
    }
   ],
   "source": [
    "getwiki(\"слон\")"
   ]
  },
  {
   "cell_type": "code",
   "execution_count": 30,
   "id": "9e925d43",
   "metadata": {},
   "outputs": [
    {
     "data": {
      "text/plain": [
       "'Пшени́ца  — род травянистых, в основном однолетних, растений семейства Злаки, или Мятликовые , ведущая зерновая культура во многих странах. Получаемая из зёрен пшеницы мука используется при выпекании хлеба, изготовлении макаронных и кондитерских изделий. Пшеница также используется как кормовая культура, входит в некоторые рецепты приготовления пива и водки, а также виски.'"
      ]
     },
     "execution_count": 30,
     "metadata": {},
     "output_type": "execute_result"
    }
   ],
   "source": [
    "getwiki(\"пшеница\")"
   ]
  },
  {
   "cell_type": "code",
   "execution_count": 31,
   "id": "8f151d71",
   "metadata": {},
   "outputs": [
    {
     "data": {
      "text/plain": [
       "'К сожалению, в википедии нет информации об этом'"
      ]
     },
     "execution_count": 31,
     "metadata": {},
     "output_type": "execute_result"
    }
   ],
   "source": [
    "getwiki(\"костапавв\")"
   ]
  },
  {
   "cell_type": "markdown",
   "id": "2a16db95",
   "metadata": {},
   "source": [
    "### Блок \"Погода в городе\""
   ]
  },
  {
   "cell_type": "code",
   "execution_count": 71,
   "id": "09e44e2e",
   "metadata": {},
   "outputs": [],
   "source": []
  },
  {
   "cell_type": "code",
   "execution_count": 32,
   "id": "6f654d76",
   "metadata": {},
   "outputs": [],
   "source": [
    "def get_weather(town):\n",
    "    try:\n",
    "        response = requests.get(f\"http://api.openweathermap.org/data/2.5/weather?q={town}&lang=ru&units=metric&appid=46e7d06c1e690398a33534855c353586\")\n",
    "        data = response.json()\n",
    "        \n",
    "        city = data[\"name\"]\n",
    "        cur_temp = data[\"main\"][\"temp\"]\n",
    "        humidity = data[\"main\"][\"humidity\"]\n",
    "        pressure = data[\"main\"][\"pressure\"]\n",
    "        wind = data[\"wind\"][\"speed\"]\n",
    "\n",
    "        sunrise_timestamp = datetime.datetime.fromtimestamp(data[\"sys\"][\"sunrise\"])\n",
    "        sunset_timestamp = datetime.datetime.fromtimestamp(data[\"sys\"][\"sunset\"])\n",
    "\n",
    "        # продолжительность дня\n",
    "        length_of_the_day = datetime.datetime.fromtimestamp(data[\"sys\"][\"sunset\"]) -       datetime.datetime.fromtimestamp(data[\"sys\"][\"sunrise\"])\n",
    "\n",
    "        \n",
    "         # Возвращаем текстовую строку\n",
    "        return (f\"{datetime.datetime.now().strftime('%Y-%m-%d %H:%M')}\\n\"\\\n",
    "                 f\"Погода в городе: {city}\\nТемпература: {cur_temp}°C\\n\"\\\n",
    "                 f\"Влажность: {humidity}%\\nДавление: {math.ceil(pressure/1.333)} мм.рт.ст\\nВетер: {wind} м/с \\n\"\n",
    "                 f\"Восход солнца: {sunrise_timestamp}\\nЗакат солнца: {sunset_timestamp}\\nПродолжительность дня: {length_of_the_day}\\n\"\n",
    "                 f\"Хорошего дня!\"\n",
    "                )\n",
    "    \n",
    "        #return(data)\n",
    "    except Exception as e:\n",
    "        return \"Проверьте название города!\""
   ]
  },
  {
   "cell_type": "code",
   "execution_count": null,
   "id": "1f41e95c",
   "metadata": {},
   "outputs": [],
   "source": []
  },
  {
   "cell_type": "markdown",
   "id": "4254fe52",
   "metadata": {},
   "source": [
    "#### Тестируем запросы"
   ]
  },
  {
   "cell_type": "code",
   "execution_count": 33,
   "id": "e87c2238",
   "metadata": {},
   "outputs": [
    {
     "name": "stdout",
     "output_type": "stream",
     "text": [
      "2024-03-18 11:14\n",
      "Погода в городе: Псков\n",
      "Температура: -0.05°C\n",
      "Влажность: 93%\n",
      "Давление: 765 мм.рт.ст\n",
      "Ветер: 6 м/с \n",
      "Восход солнца: 2024-03-18 07:13:31\n",
      "Закат солнца: 2024-03-18 19:15:42\n",
      "Продолжительность дня: 12:02:11\n",
      "Хорошего дня!\n"
     ]
    }
   ],
   "source": [
    "print(get_weather(\"Псков\"))"
   ]
  },
  {
   "cell_type": "code",
   "execution_count": 35,
   "id": "d0dd3d8e",
   "metadata": {},
   "outputs": [
    {
     "name": "stdout",
     "output_type": "stream",
     "text": [
      "2024-03-18 11:14\n",
      "Погода в городе: Санкт-Петербург\n",
      "Температура: -3.05°C\n",
      "Влажность: 80%\n",
      "Давление: 767 мм.рт.ст\n",
      "Ветер: 6 м/с \n",
      "Восход солнца: 2024-03-18 07:05:55\n",
      "Закат солнца: 2024-03-18 19:07:58\n",
      "Продолжительность дня: 12:02:03\n",
      "Хорошего дня!\n"
     ]
    }
   ],
   "source": [
    "print(get_weather(\"Санкт-Петербург\"))"
   ]
  },
  {
   "cell_type": "code",
   "execution_count": 34,
   "id": "5bcf4e5a",
   "metadata": {},
   "outputs": [
    {
     "name": "stdout",
     "output_type": "stream",
     "text": [
      "Проверьте название города!\n"
     ]
    }
   ],
   "source": [
    "print(get_weather(\"Пскив\"))"
   ]
  },
  {
   "cell_type": "code",
   "execution_count": 43,
   "id": "cbffc119",
   "metadata": {},
   "outputs": [],
   "source": [
    "bot = telebot.TeleBot('6866368317:AAFIfjoU5Si-3T9jSh1rFcQcaJc0cYmiKgA')\n",
    "#bot = TeleBot(\"\")\n",
    " \n",
    " \n",
    "keyboard1 = types.InlineKeyboardMarkup()\n",
    "callback_button1 = types.InlineKeyboardButton(text=\"Курс валют на сегодня ЦБ России\", callback_data=\"1\")\n",
    "callback_button2 = types.InlineKeyboardButton(text=\"Погода в городе\", callback_data=\"2\")\n",
    "callback_button3 = types.InlineKeyboardButton(text=\"Википедия\", callback_data=\"3\")\n",
    "callback_button4 = types.InlineKeyboardButton(text=\"Просто 'болталка'\", callback_data=\"4\")\n",
    "keyboard1.add(callback_button1, callback_button2, callback_button3, callback_button4)\n",
    " \n",
    " \n",
    "keyboard2 = types.InlineKeyboardMarkup()\n",
    "callback_button1 = types.InlineKeyboardButton(text=\"Назад\", callback_data=\"*\")\n",
    "keyboard2.add(callback_button1)\n",
    " \n",
    " \n",
    "@bot.message_handler(commands=['start'])\n",
    "def cmd_start(message: types.Message) -> None:\n",
    "    bot.send_message(\n",
    "        message.chat.id,\n",
    "        \"Выберите вопрос который вас интересует:\",\n",
    "        reply_markup=keyboard1\n",
    "    )\n",
    " \n",
    "@bot.callback_query_handler(func=lambda callback: True)\n",
    "def callback_inline(callback: types.CallbackQuery) -> None:\n",
    "    if callback.data == \"*\":\n",
    "        bot.send_message(\n",
    "            callback.message.chat.id,\n",
    "            \"Выберите вопрос который вас интересует:\",\n",
    "            reply_markup=keyboard1\n",
    "        )\n",
    "    \n",
    "    \n",
    "    elif callback.data == '1':\n",
    "            req = requests.get('https://www.cbr-xml-daily.ru/daily_json.js')\n",
    "            response = req.json()\n",
    "            usd_CBRF = response['Valute']['USD']['Value']\n",
    "            eur_CBRF = response['Valute']['EUR']['Value']\n",
    "            bot.send_message(callback.message.chat.id, f\"На сегодня курс доллара равен: {usd_CBRF} руб.\")\n",
    "            bot.send_message(callback.message.chat.id, f\"На сегодня курс евро равен: {eur_CBRF} руб.\")    \n",
    "            bot.send_message(\n",
    "            callback.message.chat.id,\n",
    "            \"Можно вернуться в основное меню\",\n",
    "            reply_markup=keyboard2\n",
    "                            )\n",
    "    \n",
    "    elif callback.data == '2':\n",
    "        bot.send_message(\n",
    "            callback.message.chat.id,\n",
    "            \"Выберите город, который Вас интересует:\")\n",
    "        \n",
    "        @bot.message_handler(content_types=[\"text\"])\n",
    "        def handle_text(message):\n",
    "            bot.send_message(message.chat.id, get_weather(message.text))\n",
    "\n",
    "            bot.send_message(\n",
    "            callback.message.chat.id,\n",
    "            \"Можно вернуться в основное меню\",\n",
    "            reply_markup=keyboard2)\n",
    "    \n",
    "    elif callback.data == '3':\n",
    "        bot.send_message(\n",
    "            callback.message.chat.id,\n",
    "            \"Введите вопрос, который Вас интересует:\")\n",
    "        @bot.message_handler(content_types=[\"text\"])\n",
    "        def handl_text(message):\n",
    "            bot.send_message(message.chat.id, getwiki(message.text))    \n",
    "            bot.send_message(\n",
    "            callback.message.chat.id,\n",
    "            \"Можно вернуться в основное меню\",\n",
    "            reply_markup=keyboard2)\n",
    "    \n",
    "    elif callback.data == \"4\":\n",
    "        bot.send_message(\n",
    "            callback.message.chat.id,\n",
    "            \"Давайте просто поболтаем:\")\n",
    "        @bot.message_handler(content_types=[\"text\"])\n",
    "        def hand_text(message):\n",
    "            bot.send_message(message.chat.id, pipe.predict([message.text.lower()])[0])      \n",
    "        \n",
    "        bot.send_message(\n",
    "            callback.message.chat.id,\n",
    "            \"Можно вернуться в основное меню\",\n",
    "            reply_markup=keyboard2)\n",
    "# Запускаем бота            \n",
    "bot.polling(none_stop=True, interval=0)        "
   ]
  },
  {
   "cell_type": "code",
   "execution_count": null,
   "id": "879259ab",
   "metadata": {},
   "outputs": [],
   "source": []
  },
  {
   "cell_type": "code",
   "execution_count": null,
   "id": "39155ff3",
   "metadata": {},
   "outputs": [],
   "source": []
  },
  {
   "cell_type": "code",
   "execution_count": null,
   "id": "10ddc5db",
   "metadata": {},
   "outputs": [],
   "source": []
  },
  {
   "cell_type": "code",
   "execution_count": null,
   "id": "6f4639d2",
   "metadata": {},
   "outputs": [],
   "source": []
  },
  {
   "cell_type": "markdown",
   "id": "31dd000b",
   "metadata": {},
   "source": [
    "#### Вспомогательная информация"
   ]
  },
  {
   "cell_type": "code",
   "execution_count": 36,
   "id": "e86138ac",
   "metadata": {},
   "outputs": [],
   "source": [
    "def get_data():\n",
    "    req = requests.get(\"https://yobit.net/api/3/ticker/btc_usd\")\n",
    "    response = req.json()\n",
    "    sell_price = response[\"btc_usd\"][\"sell\"]\n",
    "    print(f\"{datetime.now().strftime('%Y-%m-%d %H:%M')}\\nSell BTC price: {sell_price}\")"
   ]
  },
  {
   "cell_type": "code",
   "execution_count": 37,
   "id": "3c3fc598",
   "metadata": {},
   "outputs": [
    {
     "ename": "AttributeError",
     "evalue": "module 'datetime' has no attribute 'now'",
     "output_type": "error",
     "traceback": [
      "\u001b[1;31m---------------------------------------------------------------------------\u001b[0m",
      "\u001b[1;31mAttributeError\u001b[0m                            Traceback (most recent call last)",
      "\u001b[1;32m~\\AppData\\Local\\Temp\\ipykernel_2992\\2619633469.py\u001b[0m in \u001b[0;36m<module>\u001b[1;34m\u001b[0m\n\u001b[0;32m      2\u001b[0m \u001b[0mresponse\u001b[0m \u001b[1;33m=\u001b[0m \u001b[0mreq\u001b[0m\u001b[1;33m.\u001b[0m\u001b[0mjson\u001b[0m\u001b[1;33m(\u001b[0m\u001b[1;33m)\u001b[0m\u001b[1;33m\u001b[0m\u001b[1;33m\u001b[0m\u001b[0m\n\u001b[0;32m      3\u001b[0m \u001b[0msell_price\u001b[0m \u001b[1;33m=\u001b[0m \u001b[0mresponse\u001b[0m\u001b[1;33m[\u001b[0m\u001b[1;34m\"btc_usd\"\u001b[0m\u001b[1;33m]\u001b[0m\u001b[1;33m[\u001b[0m\u001b[1;34m\"sell\"\u001b[0m\u001b[1;33m]\u001b[0m\u001b[1;33m\u001b[0m\u001b[1;33m\u001b[0m\u001b[0m\n\u001b[1;32m----> 4\u001b[1;33m \u001b[0mprint\u001b[0m\u001b[1;33m(\u001b[0m\u001b[1;34mf\"{datetime.now().strftime('%Y-%m-%d %H:%M')}\\nSell BTC price: {sell_price}\"\u001b[0m\u001b[1;33m)\u001b[0m\u001b[1;33m\u001b[0m\u001b[1;33m\u001b[0m\u001b[0m\n\u001b[0m",
      "\u001b[1;31mAttributeError\u001b[0m: module 'datetime' has no attribute 'now'"
     ]
    }
   ],
   "source": [
    "req = requests.get(\"https://yobit.net/api/3/ticker/btc_usd\")\n",
    "response = req.json()\n",
    "sell_price = response[\"btc_usd\"][\"sell\"]\n",
    "print(f\"{datetime.now().strftime('%Y-%m-%d %H:%M')}\\nSell BTC price: {sell_price}\")"
   ]
  },
  {
   "cell_type": "code",
   "execution_count": 38,
   "id": "abbdb3b1",
   "metadata": {},
   "outputs": [
    {
     "data": {
      "text/plain": [
       "{'btc_usd': {'high': 69999.99999999,\n",
       "  'low': 66901,\n",
       "  'avg': 68450.49999999,\n",
       "  'vol': 23499.46583073,\n",
       "  'vol_cur': 0.33877886,\n",
       "  'last': 69999.9,\n",
       "  'buy': 69450.1,\n",
       "  'sell': 69999.9,\n",
       "  'updated': 1710749545}}"
      ]
     },
     "execution_count": 38,
     "metadata": {},
     "output_type": "execute_result"
    }
   ],
   "source": [
    "req.json()"
   ]
  },
  {
   "cell_type": "code",
   "execution_count": 39,
   "id": "1a340444",
   "metadata": {},
   "outputs": [],
   "source": [
    "req = requests.get('https://www.cbr-xml-daily.ru/daily_json.js')\n",
    "response = req.json()"
   ]
  },
  {
   "cell_type": "code",
   "execution_count": 40,
   "id": "ea3a34d2",
   "metadata": {},
   "outputs": [
    {
     "data": {
      "text/plain": [
       "{'Date': '2024-03-16T11:30:00+03:00',\n",
       " 'PreviousDate': '2024-03-15T11:30:00+03:00',\n",
       " 'PreviousURL': '//www.cbr-xml-daily.ru/archive/2024/03/15/daily_json.js',\n",
       " 'Timestamp': '2024-03-18T11:00:00+03:00',\n",
       " 'Valute': {'AUD': {'ID': 'R01010',\n",
       "   'NumCode': '036',\n",
       "   'CharCode': 'AUD',\n",
       "   'Nominal': 1,\n",
       "   'Name': 'Австралийский доллар',\n",
       "   'Value': 60.331,\n",
       "   'Previous': 60.6263},\n",
       "  'AZN': {'ID': 'R01020A',\n",
       "   'NumCode': '944',\n",
       "   'CharCode': 'AZN',\n",
       "   'Nominal': 1,\n",
       "   'Name': 'Азербайджанский манат',\n",
       "   'Value': 54.0412,\n",
       "   'Previous': 53.9035},\n",
       "  'GBP': {'ID': 'R01035',\n",
       "   'NumCode': '826',\n",
       "   'CharCode': 'GBP',\n",
       "   'Nominal': 1,\n",
       "   'Name': 'Фунт стерлингов Соединенного королевства',\n",
       "   'Value': 117.1067,\n",
       "   'Previous': 117.2665},\n",
       "  'AMD': {'ID': 'R01060',\n",
       "   'NumCode': '051',\n",
       "   'CharCode': 'AMD',\n",
       "   'Nominal': 100,\n",
       "   'Name': 'Армянских драмов',\n",
       "   'Value': 22.8175,\n",
       "   'Previous': 22.7582},\n",
       "  'BYN': {'ID': 'R01090B',\n",
       "   'NumCode': '933',\n",
       "   'CharCode': 'BYN',\n",
       "   'Nominal': 1,\n",
       "   'Name': 'Белорусский рубль',\n",
       "   'Value': 28.4242,\n",
       "   'Previous': 28.3282},\n",
       "  'BGN': {'ID': 'R01100',\n",
       "   'NumCode': '975',\n",
       "   'CharCode': 'BGN',\n",
       "   'Nominal': 1,\n",
       "   'Name': 'Болгарский лев',\n",
       "   'Value': 51.3174,\n",
       "   'Previous': 51.2522},\n",
       "  'BRL': {'ID': 'R01115',\n",
       "   'NumCode': '986',\n",
       "   'CharCode': 'BRL',\n",
       "   'Nominal': 1,\n",
       "   'Name': 'Бразильский реал',\n",
       "   'Value': 18.4608,\n",
       "   'Previous': 18.4008},\n",
       "  'HUF': {'ID': 'R01135',\n",
       "   'NumCode': '348',\n",
       "   'CharCode': 'HUF',\n",
       "   'Nominal': 100,\n",
       "   'Name': 'Венгерских форинтов',\n",
       "   'Value': 25.5039,\n",
       "   'Previous': 25.4389},\n",
       "  'VND': {'ID': 'R01150',\n",
       "   'NumCode': '704',\n",
       "   'CharCode': 'VND',\n",
       "   'Nominal': 10000,\n",
       "   'Name': 'Вьетнамских донгов',\n",
       "   'Value': 38.3127,\n",
       "   'Previous': 38.2342},\n",
       "  'HKD': {'ID': 'R01200',\n",
       "   'NumCode': '344',\n",
       "   'CharCode': 'HKD',\n",
       "   'Nominal': 1,\n",
       "   'Name': 'Гонконгский доллар',\n",
       "   'Value': 11.7661,\n",
       "   'Previous': 11.7362},\n",
       "  'GEL': {'ID': 'R01210',\n",
       "   'NumCode': '981',\n",
       "   'CharCode': 'GEL',\n",
       "   'Nominal': 1,\n",
       "   'Name': 'Грузинский лари',\n",
       "   'Value': 34.3337,\n",
       "   'Previous': 34.4677},\n",
       "  'DKK': {'ID': 'R01215',\n",
       "   'NumCode': '208',\n",
       "   'CharCode': 'DKK',\n",
       "   'Nominal': 1,\n",
       "   'Name': 'Датская крона',\n",
       "   'Value': 13.46,\n",
       "   'Previous': 13.4419},\n",
       "  'AED': {'ID': 'R01230',\n",
       "   'NumCode': '784',\n",
       "   'CharCode': 'AED',\n",
       "   'Nominal': 1,\n",
       "   'Name': 'Дирхам ОАЭ',\n",
       "   'Value': 25.0157,\n",
       "   'Previous': 24.9519},\n",
       "  'USD': {'ID': 'R01235',\n",
       "   'NumCode': '840',\n",
       "   'CharCode': 'USD',\n",
       "   'Nominal': 1,\n",
       "   'Name': 'Доллар США',\n",
       "   'Value': 91.87,\n",
       "   'Previous': 91.6359},\n",
       "  'EUR': {'ID': 'R01239',\n",
       "   'NumCode': '978',\n",
       "   'CharCode': 'EUR',\n",
       "   'Nominal': 1,\n",
       "   'Name': 'Евро',\n",
       "   'Value': 99.9718,\n",
       "   'Previous': 100.2625},\n",
       "  'EGP': {'ID': 'R01240',\n",
       "   'NumCode': '818',\n",
       "   'CharCode': 'EGP',\n",
       "   'Nominal': 10,\n",
       "   'Name': 'Египетских фунтов',\n",
       "   'Value': 19.2057,\n",
       "   'Previous': 19.1568},\n",
       "  'INR': {'ID': 'R01270',\n",
       "   'NumCode': '356',\n",
       "   'CharCode': 'INR',\n",
       "   'Nominal': 10,\n",
       "   'Name': 'Индийских рупий',\n",
       "   'Value': 11.0983,\n",
       "   'Previous': 11.07},\n",
       "  'IDR': {'ID': 'R01280',\n",
       "   'NumCode': '360',\n",
       "   'CharCode': 'IDR',\n",
       "   'Nominal': 10000,\n",
       "   'Name': 'Индонезийских рупий',\n",
       "   'Value': 58.9591,\n",
       "   'Previous': 58.8315},\n",
       "  'KZT': {'ID': 'R01335',\n",
       "   'NumCode': '398',\n",
       "   'CharCode': 'KZT',\n",
       "   'Nominal': 100,\n",
       "   'Name': 'Казахстанских тенге',\n",
       "   'Value': 20.4537,\n",
       "   'Previous': 20.3685},\n",
       "  'CAD': {'ID': 'R01350',\n",
       "   'NumCode': '124',\n",
       "   'CharCode': 'CAD',\n",
       "   'Nominal': 1,\n",
       "   'Name': 'Канадский доллар',\n",
       "   'Value': 67.9914,\n",
       "   'Previous': 68.0195},\n",
       "  'QAR': {'ID': 'R01355',\n",
       "   'NumCode': '634',\n",
       "   'CharCode': 'QAR',\n",
       "   'Nominal': 1,\n",
       "   'Name': 'Катарский риал',\n",
       "   'Value': 25.239,\n",
       "   'Previous': 25.1747},\n",
       "  'KGS': {'ID': 'R01370',\n",
       "   'NumCode': '417',\n",
       "   'CharCode': 'KGS',\n",
       "   'Nominal': 10,\n",
       "   'Name': 'Киргизских сомов',\n",
       "   'Value': 10.2637,\n",
       "   'Previous': 10.2375},\n",
       "  'CNY': {'ID': 'R01375',\n",
       "   'NumCode': '156',\n",
       "   'CharCode': 'CNY',\n",
       "   'Nominal': 1,\n",
       "   'Name': 'Китайский юань',\n",
       "   'Value': 12.7328,\n",
       "   'Previous': 12.7151},\n",
       "  'MDL': {'ID': 'R01500',\n",
       "   'NumCode': '498',\n",
       "   'CharCode': 'MDL',\n",
       "   'Nominal': 10,\n",
       "   'Name': 'Молдавских леев',\n",
       "   'Value': 52.1837,\n",
       "   'Previous': 52.0351},\n",
       "  'NZD': {'ID': 'R01530',\n",
       "   'NumCode': '554',\n",
       "   'CharCode': 'NZD',\n",
       "   'Nominal': 1,\n",
       "   'Name': 'Новозеландский доллар',\n",
       "   'Value': 56.105,\n",
       "   'Previous': 56.5164},\n",
       "  'NOK': {'ID': 'R01535',\n",
       "   'NumCode': '578',\n",
       "   'CharCode': 'NOK',\n",
       "   'Nominal': 10,\n",
       "   'Name': 'Норвежских крон',\n",
       "   'Value': 87.5277,\n",
       "   'Previous': 87.3139},\n",
       "  'PLN': {'ID': 'R01565',\n",
       "   'NumCode': '985',\n",
       "   'CharCode': 'PLN',\n",
       "   'Nominal': 1,\n",
       "   'Name': 'Польский злотый',\n",
       "   'Value': 23.322,\n",
       "   'Previous': 23.3866},\n",
       "  'RON': {'ID': 'R01585F',\n",
       "   'NumCode': '946',\n",
       "   'CharCode': 'RON',\n",
       "   'Nominal': 1,\n",
       "   'Name': 'Румынский лей',\n",
       "   'Value': 20.1271,\n",
       "   'Previous': 20.1659},\n",
       "  'XDR': {'ID': 'R01589',\n",
       "   'NumCode': '960',\n",
       "   'CharCode': 'XDR',\n",
       "   'Nominal': 1,\n",
       "   'Name': 'СДР (специальные права заимствования)',\n",
       "   'Value': 122.6079,\n",
       "   'Previous': 122.2744},\n",
       "  'SGD': {'ID': 'R01625',\n",
       "   'NumCode': '702',\n",
       "   'CharCode': 'SGD',\n",
       "   'Nominal': 1,\n",
       "   'Name': 'Сингапурский доллар',\n",
       "   'Value': 68.693,\n",
       "   'Previous': 68.7441},\n",
       "  'TJS': {'ID': 'R01670',\n",
       "   'NumCode': '972',\n",
       "   'CharCode': 'TJS',\n",
       "   'Nominal': 10,\n",
       "   'Name': 'Таджикских сомони',\n",
       "   'Value': 83.8819,\n",
       "   'Previous': 83.6415},\n",
       "  'THB': {'ID': 'R01675',\n",
       "   'NumCode': '764',\n",
       "   'CharCode': 'THB',\n",
       "   'Nominal': 10,\n",
       "   'Name': 'Таиландских батов',\n",
       "   'Value': 25.6591,\n",
       "   'Previous': 25.6889},\n",
       "  'TRY': {'ID': 'R01700J',\n",
       "   'NumCode': '949',\n",
       "   'CharCode': 'TRY',\n",
       "   'Nominal': 10,\n",
       "   'Name': 'Турецких лир',\n",
       "   'Value': 28.6273,\n",
       "   'Previous': 28.5756},\n",
       "  'TMT': {'ID': 'R01710A',\n",
       "   'NumCode': '934',\n",
       "   'CharCode': 'TMT',\n",
       "   'Nominal': 1,\n",
       "   'Name': 'Новый туркменский манат',\n",
       "   'Value': 26.2486,\n",
       "   'Previous': 26.1817},\n",
       "  'UZS': {'ID': 'R01717',\n",
       "   'NumCode': '860',\n",
       "   'CharCode': 'UZS',\n",
       "   'Nominal': 10000,\n",
       "   'Name': 'Узбекских сумов',\n",
       "   'Value': 73.1041,\n",
       "   'Previous': 73.0398},\n",
       "  'UAH': {'ID': 'R01720',\n",
       "   'NumCode': '980',\n",
       "   'CharCode': 'UAH',\n",
       "   'Nominal': 10,\n",
       "   'Name': 'Украинских гривен',\n",
       "   'Value': 23.748,\n",
       "   'Previous': 23.6249},\n",
       "  'CZK': {'ID': 'R01760',\n",
       "   'NumCode': '203',\n",
       "   'CharCode': 'CZK',\n",
       "   'Nominal': 10,\n",
       "   'Name': 'Чешских крон',\n",
       "   'Value': 39.8707,\n",
       "   'Previous': 39.6709},\n",
       "  'SEK': {'ID': 'R01770',\n",
       "   'NumCode': '752',\n",
       "   'CharCode': 'SEK',\n",
       "   'Nominal': 10,\n",
       "   'Name': 'Шведских крон',\n",
       "   'Value': 89.419,\n",
       "   'Previous': 89.5564},\n",
       "  'CHF': {'ID': 'R01775',\n",
       "   'NumCode': '756',\n",
       "   'CharCode': 'CHF',\n",
       "   'Nominal': 1,\n",
       "   'Name': 'Швейцарский франк',\n",
       "   'Value': 104.0548,\n",
       "   'Previous': 104.1554},\n",
       "  'RSD': {'ID': 'R01805F',\n",
       "   'NumCode': '941',\n",
       "   'CharCode': 'RSD',\n",
       "   'Nominal': 100,\n",
       "   'Name': 'Сербских динаров',\n",
       "   'Value': 85.2877,\n",
       "   'Previous': 85.5597},\n",
       "  'ZAR': {'ID': 'R01810',\n",
       "   'NumCode': '710',\n",
       "   'CharCode': 'ZAR',\n",
       "   'Nominal': 10,\n",
       "   'Name': 'Южноафриканских рэндов',\n",
       "   'Value': 49.177,\n",
       "   'Previous': 49.2081},\n",
       "  'KRW': {'ID': 'R01815',\n",
       "   'NumCode': '410',\n",
       "   'CharCode': 'KRW',\n",
       "   'Nominal': 1000,\n",
       "   'Name': 'Вон Республики Корея',\n",
       "   'Value': 69.0492,\n",
       "   'Previous': 69.5476},\n",
       "  'JPY': {'ID': 'R01820',\n",
       "   'NumCode': '392',\n",
       "   'CharCode': 'JPY',\n",
       "   'Nominal': 100,\n",
       "   'Name': 'Японских иен',\n",
       "   'Value': 61.8737,\n",
       "   'Previous': 62.0797}}}"
      ]
     },
     "execution_count": 40,
     "metadata": {},
     "output_type": "execute_result"
    }
   ],
   "source": [
    "req.json()"
   ]
  },
  {
   "cell_type": "code",
   "execution_count": 41,
   "id": "b122ec22",
   "metadata": {},
   "outputs": [
    {
     "data": {
      "text/plain": [
       "91.87"
      ]
     },
     "execution_count": 41,
     "metadata": {},
     "output_type": "execute_result"
    }
   ],
   "source": [
    "response[\"Valute\"]['USD']['Value']"
   ]
  },
  {
   "cell_type": "code",
   "execution_count": 42,
   "id": "627ec2bf",
   "metadata": {},
   "outputs": [
    {
     "name": "stdout",
     "output_type": "stream",
     "text": [
      "2024-03-16T11:30:00+03:00\n",
      "USD cours: 91.87\n",
      "EUR cours: 99.9718\n"
     ]
    }
   ],
   "source": [
    "print(f\"{response['Date']}\\nUSD cours: {response['Valute']['USD']['Value']}\")\n",
    "print(f\"EUR cours: {response['Valute']['EUR']['Value']}\")"
   ]
  },
  {
   "cell_type": "code",
   "execution_count": null,
   "id": "456a99d7",
   "metadata": {},
   "outputs": [],
   "source": []
  }
 ],
 "metadata": {
  "kernelspec": {
   "display_name": "Python 3 (ipykernel)",
   "language": "python",
   "name": "python3"
  },
  "language_info": {
   "codemirror_mode": {
    "name": "ipython",
    "version": 3
   },
   "file_extension": ".py",
   "mimetype": "text/x-python",
   "name": "python",
   "nbconvert_exporter": "python",
   "pygments_lexer": "ipython3",
   "version": "3.9.13"
  }
 },
 "nbformat": 4,
 "nbformat_minor": 5
}
