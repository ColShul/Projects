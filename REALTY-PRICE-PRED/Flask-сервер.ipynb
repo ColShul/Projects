{
 "cells": [
  {
   "cell_type": "markdown",
   "id": "d7213999",
   "metadata": {},
   "source": [
    "Flask"
   ]
  },
  {
   "cell_type": "code",
   "execution_count": 6,
   "id": "4b663353",
   "metadata": {},
   "outputs": [],
   "source": [
    "from flask import Flask, request, jsonify\n",
    "import pandas as pd\n",
    "import dill"
   ]
  },
  {
   "cell_type": "code",
   "execution_count": 19,
   "id": "96ba8d9a",
   "metadata": {},
   "outputs": [
    {
     "name": "stdout",
     "output_type": "stream",
     "text": [
      " * Serving Flask app \"__main__\" (lazy loading)\n",
      " * Environment: production\n",
      "\u001b[31m   WARNING: This is a development server. Do not use it in a production deployment.\u001b[0m\n",
      "\u001b[2m   Use a production WSGI server instead.\u001b[0m\n",
      " * Debug mode: off\n"
     ]
    },
    {
     "name": "stderr",
     "output_type": "stream",
     "text": [
      " * Running on http://127.0.0.1:8081/ (Press CTRL+C to quit)\n",
      "127.0.0.1 - - [19/Jul/2023 19:00:30] \"GET / HTTP/1.1\" 404 -\n"
     ]
    }
   ],
   "source": [
    "app = Flask(__name__)\n",
    "\n",
    "@app.route('/a')\n",
    "def hello():\n",
    "    return 'Hello, World!'\n",
    "\n",
    "if __name__ == '__main__':\n",
    "    app.run(port=8081)"
   ]
  },
  {
   "cell_type": "markdown",
   "id": "aa147613",
   "metadata": {},
   "source": [
    "Создаем сервис для обработки запросов к модели"
   ]
  },
  {
   "cell_type": "code",
   "execution_count": 7,
   "id": "ef8ab138",
   "metadata": {},
   "outputs": [],
   "source": [
    "with open(\"model.dill\", \"rb\") as in_strm:\n",
    "    model = dill.load(in_strm)"
   ]
  },
  {
   "cell_type": "code",
   "execution_count": 8,
   "id": "6c41869e",
   "metadata": {},
   "outputs": [],
   "source": [
    "X_test = pd.read_csv(\"X_test.csv\")\n",
    "y_test = pd.read_csv(\"y_test.csv\")"
   ]
  },
  {
   "cell_type": "code",
   "execution_count": null,
   "id": "5ff037c3",
   "metadata": {},
   "outputs": [],
   "source": [
    " # 'DistrictId', 'Rooms', 'Square', 'LifeSquare', 'KitchenSquare', 'Floor', 'HouseFloor', 'HouseYear'"
   ]
  },
  {
   "cell_type": "code",
   "execution_count": null,
   "id": "1132a4d9",
   "metadata": {},
   "outputs": [],
   "source": [
    "if request_json['']:\n",
    "        description = request_json['']"
   ]
  },
  {
   "cell_type": "code",
   "execution_count": 9,
   "id": "e094aa0b",
   "metadata": {},
   "outputs": [],
   "source": [
    " # DistrictId, Rooms, Square, LifeSquare, KitchenSquare, Floor, HouseFloor, HouseYear = 0,0,0,0,0,0,0,0"
   ]
  },
  {
   "cell_type": "code",
   "execution_count": 20,
   "id": "104f0eb5",
   "metadata": {},
   "outputs": [
    {
     "name": "stdout",
     "output_type": "stream",
     "text": [
      " * Serving Flask app \"__main__\" (lazy loading)\n",
      " * Environment: production\n",
      "\u001b[31m   WARNING: This is a development server. Do not use it in a production deployment.\u001b[0m\n",
      "\u001b[2m   Use a production WSGI server instead.\u001b[0m\n",
      " * Debug mode: off\n"
     ]
    },
    {
     "name": "stderr",
     "output_type": "stream",
     "text": [
      " * Running on http://127.0.0.1:8081/ (Press CTRL+C to quit)\n",
      "127.0.0.1 - - [19/Jul/2023 19:01:59] \"GET / HTTP/1.1\" 200 -\n"
     ]
    }
   ],
   "source": [
    "#Обработчики и запуск Flask\n",
    "@app.route('/', methods = ['GET'])\n",
    "def general():\n",
    "    return 'Это главная страница.'\n",
    "\n",
    "@app.route('/predict', methods = ['POST'])\n",
    "def predict():\n",
    "    data = {\"success\": False}\n",
    "    \n",
    "    \n",
    "    # Будьте уверены в правильности ввода!\n",
    "    # 'DistrictId', 'Rooms', 'Square', 'LifeSquare', 'KitchenSquare', 'Floor', 'HouseFloor', 'HouseYear'\n",
    "    \n",
    "    DistrictId, Rooms, Square, LifeSquare, KitchenSquare, Floor, HouseFloor, HouseYear = 0,0,0,0,0,0,0,0\n",
    "    \n",
    "    request_json = request.get_json()\n",
    "    \n",
    "    if request_json['DistrictId']:\n",
    "        DistrictId = request_json['DistrictId']\n",
    "        \n",
    "    if request_json['Rooms']:\n",
    "        Rooms = request_json['Rooms']\n",
    "        \n",
    "    if request_json['Square']:\n",
    "        Square = request_json['Square']\n",
    "        \n",
    "    if request_json['LifeSquare']:\n",
    "        LifeSquare = request_json['LifeSquare']\n",
    "        \n",
    "    if request_json['KitchenSquare']:\n",
    "        KitchenSquare = request_json['KitchenSquare']\n",
    "        \n",
    "    if request_json['Floor']:\n",
    "        Floor = request_json['Floor']\n",
    "        \n",
    "    if request_json['HouseFloor']:\n",
    "        HouseFloor = request_json['HouseFloor']\n",
    "        \n",
    "    if request_json['HouseYear']:\n",
    "        HouseYear = request_json['HouseYear']\n",
    "        \n",
    "    print(DistrictId)\n",
    "    \n",
    "    preds = model.predict(pd.DataFrame({\n",
    "        'DistrictId': [DistrictId],\n",
    "        'Rooms':[Rooms],\n",
    "        'Square':[Square],\n",
    "        'LifeSquare':[LifeSquare],\n",
    "        'KitchenSquare':[KitchenSquare],\n",
    "        'Floor':[Floor],\n",
    "        'HouseFloor':[HouseFloor],\n",
    "        'HouseYear':[HouseYear] } ))\n",
    "                                       \n",
    "    data[\"predictions\"] = preds[0]\n",
    "    \n",
    "    data[\"success\"] = True\n",
    "    print(\"OK\")\n",
    "    \n",
    "    return jsonify(data)\n",
    "                                      \n",
    "if __name__ == '__main__':\n",
    "    app.run(port=8081)"
   ]
  },
  {
   "cell_type": "code",
   "execution_count": null,
   "id": "0ed31d54",
   "metadata": {},
   "outputs": [],
   "source": []
  }
 ],
 "metadata": {
  "kernelspec": {
   "display_name": "Python 3 (ipykernel)",
   "language": "python",
   "name": "python3"
  },
  "language_info": {
   "codemirror_mode": {
    "name": "ipython",
    "version": 3
   },
   "file_extension": ".py",
   "mimetype": "text/x-python",
   "name": "python",
   "nbconvert_exporter": "python",
   "pygments_lexer": "ipython3",
   "version": "3.9.13"
  }
 },
 "nbformat": 4,
 "nbformat_minor": 5
}
